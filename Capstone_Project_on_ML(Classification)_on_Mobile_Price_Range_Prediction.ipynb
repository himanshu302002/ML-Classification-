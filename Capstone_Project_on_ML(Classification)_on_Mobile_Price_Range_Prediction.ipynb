{
  "nbformat": 4,
  "nbformat_minor": 0,
  "metadata": {
    "colab": {
      "provenance": [],
      "authorship_tag": "ABX9TyPqC0hXbRd0lDez6FCJ3QnB",
      "include_colab_link": true
    },
    "kernelspec": {
      "name": "python3",
      "display_name": "Python 3"
    },
    "language_info": {
      "name": "python"
    }
  },
  "cells": [
    {
      "cell_type": "markdown",
      "metadata": {
        "id": "view-in-github",
        "colab_type": "text"
      },
      "source": [
        "<a href=\"https://colab.research.google.com/github/himanshu302002/ML-Classification-/blob/main/Capstone_Project_on_ML(Classification)_on_Mobile_Price_Range_Prediction.ipynb\" target=\"_parent\"><img src=\"https://colab.research.google.com/assets/colab-badge.svg\" alt=\"Open In Colab\"/></a>"
      ]
    },
    {
      "cell_type": "markdown",
      "source": [
        "**Github Link :**"
      ],
      "metadata": {
        "id": "a9Qn9W7JlQdF"
      }
    },
    {
      "cell_type": "markdown",
      "source": [
        "https://github.com/himanshu302002/ML-Classification-.git"
      ],
      "metadata": {
        "id": "P81gbAKalXBJ"
      }
    },
    {
      "cell_type": "markdown",
      "source": [
        "# **Project Name**    -\n"
      ],
      "metadata": {
        "id": "3LsR7gKslxhZ"
      }
    },
    {
      "cell_type": "markdown",
      "source": [
        "##### **Project Type**    - ML(Classification) on Mobile Price Range Prediction\n",
        "\n",
        "##### **Contribution**    - Individual(Himanshu Goel)\n",
        "\n"
      ],
      "metadata": {
        "id": "3D48wTKUl7TW"
      }
    },
    {
      "cell_type": "markdown",
      "source": [
        "**In the competitive mobile phone market companies want\n",
        "to understand sales data of mobile phones and factors which drive the prices.\n",
        "The objective is to find out some relation between features of a mobile phone(eg:- RAM,\n",
        "Internal Memory, etc) and its selling price. In this problem, we do not have to predict the\n",
        "actual price but a price range indicating how high the price is**\n",
        "\n",
        "\n"
      ],
      "metadata": {
        "id": "U1pqXkLhmM2Z"
      }
    },
    {
      "cell_type": "markdown",
      "source": [
        "**Data Description -**\n"
      ],
      "metadata": {
        "id": "dBYe2v0XmlNm"
      }
    },
    {
      "cell_type": "markdown",
      "metadata": {
        "id": "b5PRDS2nnNum"
      },
      "source": [
        "\n",
        "*  **Battery_power** - Total energy a battery can store in one time measured in mAh\n",
        "*   **Blue** - Has bluetooth or not\n",
        "*   **Clock_speed** - speed at which microprocessor executes instructions\n",
        "*   **Dual_sim** - Has dual sim support or not\n",
        "*   **Fc** - Front Camera mega pixels\n",
        "*  **Four_g** - Has 4G or not\n",
        "*  **Int_memory** - Internal Memory in Gigabytes\n",
        "*   **M_dep** - Mobile Depth in cm\n",
        "*   **Mobile_wt** - Weight of mobile phone\n",
        "*   **N_cores** - Number of cores of processor\n",
        "*   **Pc** - Primary Camera mega pixels\n",
        "*   **Px_height** - Pixel Resolution Height\n",
        "*   **Px_width** - Pixel Resolution Width\n",
        "*   **Ram** - Random Access Memory in Mega\n",
        "*   **Touch_screen** - Has touch screen or not\n",
        "*   **Wifi** - Has wifi or not\n",
        "*  **Sc_h** - Screen Height of mobile in cm\n",
        "*   **Sc_w** - Screen Width of mobile in cm\n",
        "*   **Talk_time** - longest time that a single battery charge will last when you are\n",
        "*   **Three_g** - Has 3G or not\n",
        "*   **Wifi** - Has wifi or not\n",
        "*  **Price_range** - This is the target variable with value of 0(low cost), 1(medium cost),\n",
        "2(high cost) and 3(very high cost).\n",
        "\n",
        "\n",
        "\n",
        "\n",
        "\n",
        "\n",
        "\n"
      ]
    },
    {
      "cell_type": "markdown",
      "source": [
        "**Importing all Necessary Python Libraries**"
      ],
      "metadata": {
        "id": "uENv4acMqkJK"
      }
    },
    {
      "cell_type": "code",
      "source": [
        "\n",
        "import numpy as np\n",
        "import pandas as pd\n",
        "import matplotlib.pyplot as plt\n",
        "import seaborn as sns\n",
        "from sklearn.ensemble import RandomForestClassifier\n",
        "from sklearn.neighbors import KNeighborsClassifier\n",
        "from sklearn.tree import DecisionTreeClassifier\n",
        "from sklearn.pipeline import make_pipeline\n",
        "from sklearn.preprocessing import StandardScaler\n",
        "from sklearn.ensemble import StackingClassifier\n",
        "from sklearn.impute import SimpleImputer\n",
        "from sklearn.model_selection import cross_val_score\n",
        "from sklearn.model_selection import RepeatedStratifiedKFold\n",
        "from sklearn.model_selection import GridSearchCV\n",
        "\n",
        "import warnings\n",
        "warnings.filterwarnings(\"ignore\")"
      ],
      "metadata": {
        "id": "6onw9Ei8qsSR"
      },
      "execution_count": 1,
      "outputs": []
    },
    {
      "cell_type": "markdown",
      "source": [
        "**Mounting Drive**"
      ],
      "metadata": {
        "id": "NM4-AH_arNIz"
      }
    },
    {
      "cell_type": "code",
      "source": [
        "from google.colab import drive\n",
        "drive.mount('/content/drive')"
      ],
      "metadata": {
        "colab": {
          "base_uri": "https://localhost:8080/"
        },
        "id": "dz6kNLeBrP4g",
        "outputId": "60085f95-e918-4d06-ecb9-44b40bf57757"
      },
      "execution_count": 2,
      "outputs": [
        {
          "output_type": "stream",
          "name": "stdout",
          "text": [
            "Mounted at /content/drive\n"
          ]
        }
      ]
    },
    {
      "cell_type": "markdown",
      "source": [
        "**Loading Dataset**"
      ],
      "metadata": {
        "id": "cIR0HWDprhfz"
      }
    },
    {
      "cell_type": "code",
      "source": [
        "df = pd.read_csv('data_mobile_price_range.csv')"
      ],
      "metadata": {
        "id": "_bjpjrKSrkmp"
      },
      "execution_count": 3,
      "outputs": []
    },
    {
      "cell_type": "markdown",
      "source": [
        "**Basic Data Description**"
      ],
      "metadata": {
        "id": "MSDxUz-Or9oW"
      }
    },
    {
      "cell_type": "code",
      "source": [
        "df.head"
      ],
      "metadata": {
        "colab": {
          "base_uri": "https://localhost:8080/"
        },
        "id": "FHVN-MoDsBPX",
        "outputId": "3d826fee-0eeb-45f7-b8cc-d6f4a791da5b"
      },
      "execution_count": 4,
      "outputs": [
        {
          "output_type": "execute_result",
          "data": {
            "text/plain": [
              "<bound method NDFrame.head of       battery_power  blue  clock_speed  dual_sim  fc  four_g  int_memory  \\\n",
              "0               842     0          2.2         0   1       0           7   \n",
              "1              1021     1          0.5         1   0       1          53   \n",
              "2               563     1          0.5         1   2       1          41   \n",
              "3               615     1          2.5         0   0       0          10   \n",
              "4              1821     1          1.2         0  13       1          44   \n",
              "...             ...   ...          ...       ...  ..     ...         ...   \n",
              "1995            794     1          0.5         1   0       1           2   \n",
              "1996           1965     1          2.6         1   0       0          39   \n",
              "1997           1911     0          0.9         1   1       1          36   \n",
              "1998           1512     0          0.9         0   4       1          46   \n",
              "1999            510     1          2.0         1   5       1          45   \n",
              "\n",
              "      m_dep  mobile_wt  n_cores  ...  px_height  px_width   ram  sc_h  sc_w  \\\n",
              "0       0.6        188        2  ...         20       756  2549     9     7   \n",
              "1       0.7        136        3  ...        905      1988  2631    17     3   \n",
              "2       0.9        145        5  ...       1263      1716  2603    11     2   \n",
              "3       0.8        131        6  ...       1216      1786  2769    16     8   \n",
              "4       0.6        141        2  ...       1208      1212  1411     8     2   \n",
              "...     ...        ...      ...  ...        ...       ...   ...   ...   ...   \n",
              "1995    0.8        106        6  ...       1222      1890   668    13     4   \n",
              "1996    0.2        187        4  ...        915      1965  2032    11    10   \n",
              "1997    0.7        108        8  ...        868      1632  3057     9     1   \n",
              "1998    0.1        145        5  ...        336       670   869    18    10   \n",
              "1999    0.9        168        6  ...        483       754  3919    19     4   \n",
              "\n",
              "      talk_time  three_g  touch_screen  wifi  price_range  \n",
              "0            19        0             0     1            1  \n",
              "1             7        1             1     0            2  \n",
              "2             9        1             1     0            2  \n",
              "3            11        1             0     0            2  \n",
              "4            15        1             1     0            1  \n",
              "...         ...      ...           ...   ...          ...  \n",
              "1995         19        1             1     0            0  \n",
              "1996         16        1             1     1            2  \n",
              "1997          5        1             1     0            3  \n",
              "1998         19        1             1     1            0  \n",
              "1999          2        1             1     1            3  \n",
              "\n",
              "[2000 rows x 21 columns]>"
            ]
          },
          "metadata": {},
          "execution_count": 4
        }
      ]
    },
    {
      "cell_type": "markdown",
      "source": [
        "**Our Data has 2000 Rows and 21 Columns**"
      ],
      "metadata": {
        "id": "btuqRtm9sI7G"
      }
    },
    {
      "cell_type": "code",
      "source": [
        "df.columns\n"
      ],
      "metadata": {
        "colab": {
          "base_uri": "https://localhost:8080/"
        },
        "id": "BzCGl9QesOn6",
        "outputId": "53bc9399-fc4e-4589-9aa8-6d3c59f4f37a"
      },
      "execution_count": 5,
      "outputs": [
        {
          "output_type": "execute_result",
          "data": {
            "text/plain": [
              "Index(['battery_power', 'blue', 'clock_speed', 'dual_sim', 'fc', 'four_g',\n",
              "       'int_memory', 'm_dep', 'mobile_wt', 'n_cores', 'pc', 'px_height',\n",
              "       'px_width', 'ram', 'sc_h', 'sc_w', 'talk_time', 'three_g',\n",
              "       'touch_screen', 'wifi', 'price_range'],\n",
              "      dtype='object')"
            ]
          },
          "metadata": {},
          "execution_count": 5
        }
      ]
    },
    {
      "cell_type": "code",
      "source": [
        "df.tail\n"
      ],
      "metadata": {
        "colab": {
          "base_uri": "https://localhost:8080/"
        },
        "id": "HX3mkqLmsYNM",
        "outputId": "7f1e5f5f-2dea-400f-858b-e14415356196"
      },
      "execution_count": 6,
      "outputs": [
        {
          "output_type": "execute_result",
          "data": {
            "text/plain": [
              "<bound method NDFrame.tail of       battery_power  blue  clock_speed  dual_sim  fc  four_g  int_memory  \\\n",
              "0               842     0          2.2         0   1       0           7   \n",
              "1              1021     1          0.5         1   0       1          53   \n",
              "2               563     1          0.5         1   2       1          41   \n",
              "3               615     1          2.5         0   0       0          10   \n",
              "4              1821     1          1.2         0  13       1          44   \n",
              "...             ...   ...          ...       ...  ..     ...         ...   \n",
              "1995            794     1          0.5         1   0       1           2   \n",
              "1996           1965     1          2.6         1   0       0          39   \n",
              "1997           1911     0          0.9         1   1       1          36   \n",
              "1998           1512     0          0.9         0   4       1          46   \n",
              "1999            510     1          2.0         1   5       1          45   \n",
              "\n",
              "      m_dep  mobile_wt  n_cores  ...  px_height  px_width   ram  sc_h  sc_w  \\\n",
              "0       0.6        188        2  ...         20       756  2549     9     7   \n",
              "1       0.7        136        3  ...        905      1988  2631    17     3   \n",
              "2       0.9        145        5  ...       1263      1716  2603    11     2   \n",
              "3       0.8        131        6  ...       1216      1786  2769    16     8   \n",
              "4       0.6        141        2  ...       1208      1212  1411     8     2   \n",
              "...     ...        ...      ...  ...        ...       ...   ...   ...   ...   \n",
              "1995    0.8        106        6  ...       1222      1890   668    13     4   \n",
              "1996    0.2        187        4  ...        915      1965  2032    11    10   \n",
              "1997    0.7        108        8  ...        868      1632  3057     9     1   \n",
              "1998    0.1        145        5  ...        336       670   869    18    10   \n",
              "1999    0.9        168        6  ...        483       754  3919    19     4   \n",
              "\n",
              "      talk_time  three_g  touch_screen  wifi  price_range  \n",
              "0            19        0             0     1            1  \n",
              "1             7        1             1     0            2  \n",
              "2             9        1             1     0            2  \n",
              "3            11        1             0     0            2  \n",
              "4            15        1             1     0            1  \n",
              "...         ...      ...           ...   ...          ...  \n",
              "1995         19        1             1     0            0  \n",
              "1996         16        1             1     1            2  \n",
              "1997          5        1             1     0            3  \n",
              "1998         19        1             1     1            0  \n",
              "1999          2        1             1     1            3  \n",
              "\n",
              "[2000 rows x 21 columns]>"
            ]
          },
          "metadata": {},
          "execution_count": 6
        }
      ]
    },
    {
      "cell_type": "markdown",
      "source": [
        "**Data Analysis**"
      ],
      "metadata": {
        "id": "-TOWs25ushIu"
      }
    },
    {
      "cell_type": "code",
      "source": [
        "# Data information\n",
        "df.info()\n"
      ],
      "metadata": {
        "colab": {
          "base_uri": "https://localhost:8080/"
        },
        "id": "fiB-U2Q3sl8G",
        "outputId": "73cdcec7-03d7-440c-ea64-a98eab53c152"
      },
      "execution_count": 7,
      "outputs": [
        {
          "output_type": "stream",
          "name": "stdout",
          "text": [
            "<class 'pandas.core.frame.DataFrame'>\n",
            "RangeIndex: 2000 entries, 0 to 1999\n",
            "Data columns (total 21 columns):\n",
            " #   Column         Non-Null Count  Dtype  \n",
            "---  ------         --------------  -----  \n",
            " 0   battery_power  2000 non-null   int64  \n",
            " 1   blue           2000 non-null   int64  \n",
            " 2   clock_speed    2000 non-null   float64\n",
            " 3   dual_sim       2000 non-null   int64  \n",
            " 4   fc             2000 non-null   int64  \n",
            " 5   four_g         2000 non-null   int64  \n",
            " 6   int_memory     2000 non-null   int64  \n",
            " 7   m_dep          2000 non-null   float64\n",
            " 8   mobile_wt      2000 non-null   int64  \n",
            " 9   n_cores        2000 non-null   int64  \n",
            " 10  pc             2000 non-null   int64  \n",
            " 11  px_height      2000 non-null   int64  \n",
            " 12  px_width       2000 non-null   int64  \n",
            " 13  ram            2000 non-null   int64  \n",
            " 14  sc_h           2000 non-null   int64  \n",
            " 15  sc_w           2000 non-null   int64  \n",
            " 16  talk_time      2000 non-null   int64  \n",
            " 17  three_g        2000 non-null   int64  \n",
            " 18  touch_screen   2000 non-null   int64  \n",
            " 19  wifi           2000 non-null   int64  \n",
            " 20  price_range    2000 non-null   int64  \n",
            "dtypes: float64(2), int64(19)\n",
            "memory usage: 328.2 KB\n"
          ]
        }
      ]
    },
    {
      "cell_type": "markdown",
      "source": [
        "**Our Dataset Have Integer And Float Values**"
      ],
      "metadata": {
        "id": "n784V7aIsuh0"
      }
    },
    {
      "cell_type": "code",
      "source": [
        "#Description of the data\n",
        "df.describe()\n",
        "df.describe().T # transpose\n"
      ],
      "metadata": {
        "colab": {
          "base_uri": "https://localhost:8080/",
          "height": 708
        },
        "id": "8DmJ-lQes2KL",
        "outputId": "80ec13da-bbda-42ca-f7cf-93b4e55409b5"
      },
      "execution_count": 8,
      "outputs": [
        {
          "output_type": "execute_result",
          "data": {
            "text/plain": [
              "                count        mean          std    min      25%     50%  \\\n",
              "battery_power  2000.0  1238.51850   439.418206  501.0   851.75  1226.0   \n",
              "blue           2000.0     0.49500     0.500100    0.0     0.00     0.0   \n",
              "clock_speed    2000.0     1.52225     0.816004    0.5     0.70     1.5   \n",
              "dual_sim       2000.0     0.50950     0.500035    0.0     0.00     1.0   \n",
              "fc             2000.0     4.30950     4.341444    0.0     1.00     3.0   \n",
              "four_g         2000.0     0.52150     0.499662    0.0     0.00     1.0   \n",
              "int_memory     2000.0    32.04650    18.145715    2.0    16.00    32.0   \n",
              "m_dep          2000.0     0.50175     0.288416    0.1     0.20     0.5   \n",
              "mobile_wt      2000.0   140.24900    35.399655   80.0   109.00   141.0   \n",
              "n_cores        2000.0     4.52050     2.287837    1.0     3.00     4.0   \n",
              "pc             2000.0     9.91650     6.064315    0.0     5.00    10.0   \n",
              "px_height      2000.0   645.10800   443.780811    0.0   282.75   564.0   \n",
              "px_width       2000.0  1251.51550   432.199447  500.0   874.75  1247.0   \n",
              "ram            2000.0  2124.21300  1084.732044  256.0  1207.50  2146.5   \n",
              "sc_h           2000.0    12.30650     4.213245    5.0     9.00    12.0   \n",
              "sc_w           2000.0     5.76700     4.356398    0.0     2.00     5.0   \n",
              "talk_time      2000.0    11.01100     5.463955    2.0     6.00    11.0   \n",
              "three_g        2000.0     0.76150     0.426273    0.0     1.00     1.0   \n",
              "touch_screen   2000.0     0.50300     0.500116    0.0     0.00     1.0   \n",
              "wifi           2000.0     0.50700     0.500076    0.0     0.00     1.0   \n",
              "price_range    2000.0     1.50000     1.118314    0.0     0.75     1.5   \n",
              "\n",
              "                   75%     max  \n",
              "battery_power  1615.25  1998.0  \n",
              "blue              1.00     1.0  \n",
              "clock_speed       2.20     3.0  \n",
              "dual_sim          1.00     1.0  \n",
              "fc                7.00    19.0  \n",
              "four_g            1.00     1.0  \n",
              "int_memory       48.00    64.0  \n",
              "m_dep             0.80     1.0  \n",
              "mobile_wt       170.00   200.0  \n",
              "n_cores           7.00     8.0  \n",
              "pc               15.00    20.0  \n",
              "px_height       947.25  1960.0  \n",
              "px_width       1633.00  1998.0  \n",
              "ram            3064.50  3998.0  \n",
              "sc_h             16.00    19.0  \n",
              "sc_w              9.00    18.0  \n",
              "talk_time        16.00    20.0  \n",
              "three_g           1.00     1.0  \n",
              "touch_screen      1.00     1.0  \n",
              "wifi              1.00     1.0  \n",
              "price_range       2.25     3.0  "
            ],
            "text/html": [
              "\n",
              "  <div id=\"df-e33e2627-d079-4cf6-bba6-c2800d431e66\">\n",
              "    <div class=\"colab-df-container\">\n",
              "      <div>\n",
              "<style scoped>\n",
              "    .dataframe tbody tr th:only-of-type {\n",
              "        vertical-align: middle;\n",
              "    }\n",
              "\n",
              "    .dataframe tbody tr th {\n",
              "        vertical-align: top;\n",
              "    }\n",
              "\n",
              "    .dataframe thead th {\n",
              "        text-align: right;\n",
              "    }\n",
              "</style>\n",
              "<table border=\"1\" class=\"dataframe\">\n",
              "  <thead>\n",
              "    <tr style=\"text-align: right;\">\n",
              "      <th></th>\n",
              "      <th>count</th>\n",
              "      <th>mean</th>\n",
              "      <th>std</th>\n",
              "      <th>min</th>\n",
              "      <th>25%</th>\n",
              "      <th>50%</th>\n",
              "      <th>75%</th>\n",
              "      <th>max</th>\n",
              "    </tr>\n",
              "  </thead>\n",
              "  <tbody>\n",
              "    <tr>\n",
              "      <th>battery_power</th>\n",
              "      <td>2000.0</td>\n",
              "      <td>1238.51850</td>\n",
              "      <td>439.418206</td>\n",
              "      <td>501.0</td>\n",
              "      <td>851.75</td>\n",
              "      <td>1226.0</td>\n",
              "      <td>1615.25</td>\n",
              "      <td>1998.0</td>\n",
              "    </tr>\n",
              "    <tr>\n",
              "      <th>blue</th>\n",
              "      <td>2000.0</td>\n",
              "      <td>0.49500</td>\n",
              "      <td>0.500100</td>\n",
              "      <td>0.0</td>\n",
              "      <td>0.00</td>\n",
              "      <td>0.0</td>\n",
              "      <td>1.00</td>\n",
              "      <td>1.0</td>\n",
              "    </tr>\n",
              "    <tr>\n",
              "      <th>clock_speed</th>\n",
              "      <td>2000.0</td>\n",
              "      <td>1.52225</td>\n",
              "      <td>0.816004</td>\n",
              "      <td>0.5</td>\n",
              "      <td>0.70</td>\n",
              "      <td>1.5</td>\n",
              "      <td>2.20</td>\n",
              "      <td>3.0</td>\n",
              "    </tr>\n",
              "    <tr>\n",
              "      <th>dual_sim</th>\n",
              "      <td>2000.0</td>\n",
              "      <td>0.50950</td>\n",
              "      <td>0.500035</td>\n",
              "      <td>0.0</td>\n",
              "      <td>0.00</td>\n",
              "      <td>1.0</td>\n",
              "      <td>1.00</td>\n",
              "      <td>1.0</td>\n",
              "    </tr>\n",
              "    <tr>\n",
              "      <th>fc</th>\n",
              "      <td>2000.0</td>\n",
              "      <td>4.30950</td>\n",
              "      <td>4.341444</td>\n",
              "      <td>0.0</td>\n",
              "      <td>1.00</td>\n",
              "      <td>3.0</td>\n",
              "      <td>7.00</td>\n",
              "      <td>19.0</td>\n",
              "    </tr>\n",
              "    <tr>\n",
              "      <th>four_g</th>\n",
              "      <td>2000.0</td>\n",
              "      <td>0.52150</td>\n",
              "      <td>0.499662</td>\n",
              "      <td>0.0</td>\n",
              "      <td>0.00</td>\n",
              "      <td>1.0</td>\n",
              "      <td>1.00</td>\n",
              "      <td>1.0</td>\n",
              "    </tr>\n",
              "    <tr>\n",
              "      <th>int_memory</th>\n",
              "      <td>2000.0</td>\n",
              "      <td>32.04650</td>\n",
              "      <td>18.145715</td>\n",
              "      <td>2.0</td>\n",
              "      <td>16.00</td>\n",
              "      <td>32.0</td>\n",
              "      <td>48.00</td>\n",
              "      <td>64.0</td>\n",
              "    </tr>\n",
              "    <tr>\n",
              "      <th>m_dep</th>\n",
              "      <td>2000.0</td>\n",
              "      <td>0.50175</td>\n",
              "      <td>0.288416</td>\n",
              "      <td>0.1</td>\n",
              "      <td>0.20</td>\n",
              "      <td>0.5</td>\n",
              "      <td>0.80</td>\n",
              "      <td>1.0</td>\n",
              "    </tr>\n",
              "    <tr>\n",
              "      <th>mobile_wt</th>\n",
              "      <td>2000.0</td>\n",
              "      <td>140.24900</td>\n",
              "      <td>35.399655</td>\n",
              "      <td>80.0</td>\n",
              "      <td>109.00</td>\n",
              "      <td>141.0</td>\n",
              "      <td>170.00</td>\n",
              "      <td>200.0</td>\n",
              "    </tr>\n",
              "    <tr>\n",
              "      <th>n_cores</th>\n",
              "      <td>2000.0</td>\n",
              "      <td>4.52050</td>\n",
              "      <td>2.287837</td>\n",
              "      <td>1.0</td>\n",
              "      <td>3.00</td>\n",
              "      <td>4.0</td>\n",
              "      <td>7.00</td>\n",
              "      <td>8.0</td>\n",
              "    </tr>\n",
              "    <tr>\n",
              "      <th>pc</th>\n",
              "      <td>2000.0</td>\n",
              "      <td>9.91650</td>\n",
              "      <td>6.064315</td>\n",
              "      <td>0.0</td>\n",
              "      <td>5.00</td>\n",
              "      <td>10.0</td>\n",
              "      <td>15.00</td>\n",
              "      <td>20.0</td>\n",
              "    </tr>\n",
              "    <tr>\n",
              "      <th>px_height</th>\n",
              "      <td>2000.0</td>\n",
              "      <td>645.10800</td>\n",
              "      <td>443.780811</td>\n",
              "      <td>0.0</td>\n",
              "      <td>282.75</td>\n",
              "      <td>564.0</td>\n",
              "      <td>947.25</td>\n",
              "      <td>1960.0</td>\n",
              "    </tr>\n",
              "    <tr>\n",
              "      <th>px_width</th>\n",
              "      <td>2000.0</td>\n",
              "      <td>1251.51550</td>\n",
              "      <td>432.199447</td>\n",
              "      <td>500.0</td>\n",
              "      <td>874.75</td>\n",
              "      <td>1247.0</td>\n",
              "      <td>1633.00</td>\n",
              "      <td>1998.0</td>\n",
              "    </tr>\n",
              "    <tr>\n",
              "      <th>ram</th>\n",
              "      <td>2000.0</td>\n",
              "      <td>2124.21300</td>\n",
              "      <td>1084.732044</td>\n",
              "      <td>256.0</td>\n",
              "      <td>1207.50</td>\n",
              "      <td>2146.5</td>\n",
              "      <td>3064.50</td>\n",
              "      <td>3998.0</td>\n",
              "    </tr>\n",
              "    <tr>\n",
              "      <th>sc_h</th>\n",
              "      <td>2000.0</td>\n",
              "      <td>12.30650</td>\n",
              "      <td>4.213245</td>\n",
              "      <td>5.0</td>\n",
              "      <td>9.00</td>\n",
              "      <td>12.0</td>\n",
              "      <td>16.00</td>\n",
              "      <td>19.0</td>\n",
              "    </tr>\n",
              "    <tr>\n",
              "      <th>sc_w</th>\n",
              "      <td>2000.0</td>\n",
              "      <td>5.76700</td>\n",
              "      <td>4.356398</td>\n",
              "      <td>0.0</td>\n",
              "      <td>2.00</td>\n",
              "      <td>5.0</td>\n",
              "      <td>9.00</td>\n",
              "      <td>18.0</td>\n",
              "    </tr>\n",
              "    <tr>\n",
              "      <th>talk_time</th>\n",
              "      <td>2000.0</td>\n",
              "      <td>11.01100</td>\n",
              "      <td>5.463955</td>\n",
              "      <td>2.0</td>\n",
              "      <td>6.00</td>\n",
              "      <td>11.0</td>\n",
              "      <td>16.00</td>\n",
              "      <td>20.0</td>\n",
              "    </tr>\n",
              "    <tr>\n",
              "      <th>three_g</th>\n",
              "      <td>2000.0</td>\n",
              "      <td>0.76150</td>\n",
              "      <td>0.426273</td>\n",
              "      <td>0.0</td>\n",
              "      <td>1.00</td>\n",
              "      <td>1.0</td>\n",
              "      <td>1.00</td>\n",
              "      <td>1.0</td>\n",
              "    </tr>\n",
              "    <tr>\n",
              "      <th>touch_screen</th>\n",
              "      <td>2000.0</td>\n",
              "      <td>0.50300</td>\n",
              "      <td>0.500116</td>\n",
              "      <td>0.0</td>\n",
              "      <td>0.00</td>\n",
              "      <td>1.0</td>\n",
              "      <td>1.00</td>\n",
              "      <td>1.0</td>\n",
              "    </tr>\n",
              "    <tr>\n",
              "      <th>wifi</th>\n",
              "      <td>2000.0</td>\n",
              "      <td>0.50700</td>\n",
              "      <td>0.500076</td>\n",
              "      <td>0.0</td>\n",
              "      <td>0.00</td>\n",
              "      <td>1.0</td>\n",
              "      <td>1.00</td>\n",
              "      <td>1.0</td>\n",
              "    </tr>\n",
              "    <tr>\n",
              "      <th>price_range</th>\n",
              "      <td>2000.0</td>\n",
              "      <td>1.50000</td>\n",
              "      <td>1.118314</td>\n",
              "      <td>0.0</td>\n",
              "      <td>0.75</td>\n",
              "      <td>1.5</td>\n",
              "      <td>2.25</td>\n",
              "      <td>3.0</td>\n",
              "    </tr>\n",
              "  </tbody>\n",
              "</table>\n",
              "</div>\n",
              "      <button class=\"colab-df-convert\" onclick=\"convertToInteractive('df-e33e2627-d079-4cf6-bba6-c2800d431e66')\"\n",
              "              title=\"Convert this dataframe to an interactive table.\"\n",
              "              style=\"display:none;\">\n",
              "        \n",
              "  <svg xmlns=\"http://www.w3.org/2000/svg\" height=\"24px\"viewBox=\"0 0 24 24\"\n",
              "       width=\"24px\">\n",
              "    <path d=\"M0 0h24v24H0V0z\" fill=\"none\"/>\n",
              "    <path d=\"M18.56 5.44l.94 2.06.94-2.06 2.06-.94-2.06-.94-.94-2.06-.94 2.06-2.06.94zm-11 1L8.5 8.5l.94-2.06 2.06-.94-2.06-.94L8.5 2.5l-.94 2.06-2.06.94zm10 10l.94 2.06.94-2.06 2.06-.94-2.06-.94-.94-2.06-.94 2.06-2.06.94z\"/><path d=\"M17.41 7.96l-1.37-1.37c-.4-.4-.92-.59-1.43-.59-.52 0-1.04.2-1.43.59L10.3 9.45l-7.72 7.72c-.78.78-.78 2.05 0 2.83L4 21.41c.39.39.9.59 1.41.59.51 0 1.02-.2 1.41-.59l7.78-7.78 2.81-2.81c.8-.78.8-2.07 0-2.86zM5.41 20L4 18.59l7.72-7.72 1.47 1.35L5.41 20z\"/>\n",
              "  </svg>\n",
              "      </button>\n",
              "      \n",
              "  <style>\n",
              "    .colab-df-container {\n",
              "      display:flex;\n",
              "      flex-wrap:wrap;\n",
              "      gap: 12px;\n",
              "    }\n",
              "\n",
              "    .colab-df-convert {\n",
              "      background-color: #E8F0FE;\n",
              "      border: none;\n",
              "      border-radius: 50%;\n",
              "      cursor: pointer;\n",
              "      display: none;\n",
              "      fill: #1967D2;\n",
              "      height: 32px;\n",
              "      padding: 0 0 0 0;\n",
              "      width: 32px;\n",
              "    }\n",
              "\n",
              "    .colab-df-convert:hover {\n",
              "      background-color: #E2EBFA;\n",
              "      box-shadow: 0px 1px 2px rgba(60, 64, 67, 0.3), 0px 1px 3px 1px rgba(60, 64, 67, 0.15);\n",
              "      fill: #174EA6;\n",
              "    }\n",
              "\n",
              "    [theme=dark] .colab-df-convert {\n",
              "      background-color: #3B4455;\n",
              "      fill: #D2E3FC;\n",
              "    }\n",
              "\n",
              "    [theme=dark] .colab-df-convert:hover {\n",
              "      background-color: #434B5C;\n",
              "      box-shadow: 0px 1px 3px 1px rgba(0, 0, 0, 0.15);\n",
              "      filter: drop-shadow(0px 1px 2px rgba(0, 0, 0, 0.3));\n",
              "      fill: #FFFFFF;\n",
              "    }\n",
              "  </style>\n",
              "\n",
              "      <script>\n",
              "        const buttonEl =\n",
              "          document.querySelector('#df-e33e2627-d079-4cf6-bba6-c2800d431e66 button.colab-df-convert');\n",
              "        buttonEl.style.display =\n",
              "          google.colab.kernel.accessAllowed ? 'block' : 'none';\n",
              "\n",
              "        async function convertToInteractive(key) {\n",
              "          const element = document.querySelector('#df-e33e2627-d079-4cf6-bba6-c2800d431e66');\n",
              "          const dataTable =\n",
              "            await google.colab.kernel.invokeFunction('convertToInteractive',\n",
              "                                                     [key], {});\n",
              "          if (!dataTable) return;\n",
              "\n",
              "          const docLinkHtml = 'Like what you see? Visit the ' +\n",
              "            '<a target=\"_blank\" href=https://colab.research.google.com/notebooks/data_table.ipynb>data table notebook</a>'\n",
              "            + ' to learn more about interactive tables.';\n",
              "          element.innerHTML = '';\n",
              "          dataTable['output_type'] = 'display_data';\n",
              "          await google.colab.output.renderOutput(dataTable, element);\n",
              "          const docLink = document.createElement('div');\n",
              "          docLink.innerHTML = docLinkHtml;\n",
              "          element.appendChild(docLink);\n",
              "        }\n",
              "      </script>\n",
              "    </div>\n",
              "  </div>\n",
              "  "
            ]
          },
          "metadata": {},
          "execution_count": 8
        }
      ]
    },
    {
      "cell_type": "markdown",
      "source": [
        "**From Here We Can See Minimum Value of px_height and sc_w is showing to be zero**"
      ],
      "metadata": {
        "id": "RZhp2vxxtE52"
      }
    },
    {
      "cell_type": "markdown",
      "source": [
        "But , minimum value of px_height and sc_w cannot be zero so we need to handle that\n"
      ],
      "metadata": {
        "id": "5UmfzoM7tcgK"
      }
    },
    {
      "cell_type": "code",
      "source": [
        "# Total phones with sc_w = 0\n",
        "print(len(df[df.sc_w == 0]))\n",
        "# Total phones with px_height = 0\n",
        "print(len(df[df.px_height == 0]))"
      ],
      "metadata": {
        "colab": {
          "base_uri": "https://localhost:8080/"
        },
        "id": "sA9mzclEti33",
        "outputId": "1370472f-041c-41e3-bc29-acddc1e125b5"
      },
      "execution_count": 9,
      "outputs": [
        {
          "output_type": "stream",
          "name": "stdout",
          "text": [
            "180\n",
            "2\n"
          ]
        }
      ]
    },
    {
      "cell_type": "markdown",
      "source": [
        "**Assignning Mean Values Where sc_w and px_height is zero**"
      ],
      "metadata": {
        "id": "LSOG5Op9uKLm"
      }
    },
    {
      "cell_type": "code",
      "source": [
        "df['sc_w'][df[df.sc_w == 0].index] = df.sc_w.mean()\n",
        "df['px_height'][df[df.px_height == 0].index] = df.px_height.mean()"
      ],
      "metadata": {
        "id": "iXQr9kbluh4M"
      },
      "execution_count": 10,
      "outputs": []
    },
    {
      "cell_type": "markdown",
      "source": [
        "**Checking Duplicated Values**"
      ],
      "metadata": {
        "id": "Z6zC5gFyumsh"
      }
    },
    {
      "cell_type": "code",
      "source": [
        "len(df[df.duplicated()])\n"
      ],
      "metadata": {
        "colab": {
          "base_uri": "https://localhost:8080/"
        },
        "id": "0TgME5z7uqdI",
        "outputId": "ad6377fc-996c-4271-f0bd-e9bafac815b6"
      },
      "execution_count": 11,
      "outputs": [
        {
          "output_type": "execute_result",
          "data": {
            "text/plain": [
              "0"
            ]
          },
          "metadata": {},
          "execution_count": 11
        }
      ]
    },
    {
      "cell_type": "markdown",
      "source": [
        "**No Duplicated Values In our Dataset**"
      ],
      "metadata": {
        "id": "-lDoqUaPusw0"
      }
    },
    {
      "cell_type": "markdown",
      "source": [
        "**Finding Unique Values**"
      ],
      "metadata": {
        "id": "LCJGPRP8uzqt"
      }
    },
    {
      "cell_type": "code",
      "source": [
        "df.nunique()\n"
      ],
      "metadata": {
        "colab": {
          "base_uri": "https://localhost:8080/"
        },
        "id": "3141VWEAu3mZ",
        "outputId": "ca0db75c-8087-4cd3-c8d0-648393af5411"
      },
      "execution_count": 12,
      "outputs": [
        {
          "output_type": "execute_result",
          "data": {
            "text/plain": [
              "battery_power    1094\n",
              "blue                2\n",
              "clock_speed        26\n",
              "dual_sim            2\n",
              "fc                 20\n",
              "four_g              2\n",
              "int_memory         63\n",
              "m_dep              10\n",
              "mobile_wt         121\n",
              "n_cores             8\n",
              "pc                 21\n",
              "px_height        1137\n",
              "px_width         1109\n",
              "ram              1562\n",
              "sc_h               15\n",
              "sc_w               19\n",
              "talk_time          19\n",
              "three_g             2\n",
              "touch_screen        2\n",
              "wifi                2\n",
              "price_range         4\n",
              "dtype: int64"
            ]
          },
          "metadata": {},
          "execution_count": 12
        }
      ]
    }
  ]
}