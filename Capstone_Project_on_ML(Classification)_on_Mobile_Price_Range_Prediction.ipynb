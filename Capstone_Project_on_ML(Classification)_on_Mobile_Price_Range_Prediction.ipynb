{
  "nbformat": 4,
  "nbformat_minor": 0,
  "metadata": {
    "colab": {
      "provenance": [],
      "authorship_tag": "ABX9TyPeTSEKWDWQSPvzJxf4NvQF",
      "include_colab_link": true
    },
    "kernelspec": {
      "name": "python3",
      "display_name": "Python 3"
    },
    "language_info": {
      "name": "python"
    }
  },
  "cells": [
    {
      "cell_type": "markdown",
      "metadata": {
        "id": "view-in-github",
        "colab_type": "text"
      },
      "source": [
        "<a href=\"https://colab.research.google.com/github/himanshu302002/ML-Classification-/blob/main/Capstone_Project_on_ML(Classification)_on_Mobile_Price_Range_Prediction.ipynb\" target=\"_parent\"><img src=\"https://colab.research.google.com/assets/colab-badge.svg\" alt=\"Open In Colab\"/></a>"
      ]
    },
    {
      "cell_type": "markdown",
      "source": [
        "**Github Link :**"
      ],
      "metadata": {
        "id": "a9Qn9W7JlQdF"
      }
    },
    {
      "cell_type": "markdown",
      "source": [
        "https://github.com/himanshu302002/ML-Classification-.git"
      ],
      "metadata": {
        "id": "P81gbAKalXBJ"
      }
    },
    {
      "cell_type": "markdown",
      "source": [
        "# **Project Name**    -\n"
      ],
      "metadata": {
        "id": "3LsR7gKslxhZ"
      }
    },
    {
      "cell_type": "markdown",
      "source": [
        "##### **Project Type**    - ML(Classification) on Mobile Price Range Prediction\n",
        "\n",
        "##### **Contribution**    - Individual(Himanshu Goel)\n",
        "\n"
      ],
      "metadata": {
        "id": "3D48wTKUl7TW"
      }
    },
    {
      "cell_type": "markdown",
      "source": [
        "**In the competitive mobile phone market companies want\n",
        "to understand sales data of mobile phones and factors which drive the prices.\n",
        "The objective is to find out some relation between features of a mobile phone(eg:- RAM,\n",
        "Internal Memory, etc) and its selling price. In this problem, we do not have to predict the\n",
        "actual price but a price range indicating how high the price is**\n",
        "\n",
        "\n"
      ],
      "metadata": {
        "id": "U1pqXkLhmM2Z"
      }
    },
    {
      "cell_type": "markdown",
      "source": [
        "**Data Description -**\n"
      ],
      "metadata": {
        "id": "dBYe2v0XmlNm"
      }
    },
    {
      "cell_type": "markdown",
      "metadata": {
        "id": "b5PRDS2nnNum"
      },
      "source": [
        "\n",
        "*  **Battery_power** - Total energy a battery can store in one time measured in mAh\n",
        "*   **Blue** - Has bluetooth or not\n",
        "*   **Clock_speed** - speed at which microprocessor executes instructions\n",
        "*   **Dual_sim** - Has dual sim support or not\n",
        "*   **Fc** - Front Camera mega pixels\n",
        "*  **Four_g** - Has 4G or not\n",
        "*  **Int_memory** - Internal Memory in Gigabytes\n",
        "*   **M_dep** - Mobile Depth in cm\n",
        "*   **Mobile_wt** - Weight of mobile phone\n",
        "*   **N_cores** - Number of cores of processor\n",
        "*   **Pc** - Primary Camera mega pixels\n",
        "*   **Px_height** - Pixel Resolution Height\n",
        "*   **Px_width** - Pixel Resolution Width\n",
        "*   **Ram** - Random Access Memory in Mega\n",
        "*   **Touch_screen** - Has touch screen or not\n",
        "*   **Wifi** - Has wifi or not\n",
        "*  **Sc_h** - Screen Height of mobile in cm\n",
        "*   **Sc_w** - Screen Width of mobile in cm\n",
        "*   **Talk_time** - longest time that a single battery charge will last when you are\n",
        "*   **Three_g** - Has 3G or not\n",
        "*   **Wifi** - Has wifi or not\n",
        "*  **Price_range** - This is the target variable with value of 0(low cost), 1(medium cost),\n",
        "2(high cost) and 3(very high cost).\n",
        "\n",
        "\n",
        "\n",
        "\n",
        "\n",
        "\n",
        "\n"
      ]
    },
    {
      "cell_type": "markdown",
      "source": [
        "**Importing all Necessary Python Libraries**"
      ],
      "metadata": {
        "id": "uENv4acMqkJK"
      }
    },
    {
      "cell_type": "code",
      "source": [
        "\n",
        "import numpy as np\n",
        "import pandas as pd\n",
        "import matplotlib.pyplot as plt\n",
        "import seaborn as sns\n",
        "from sklearn.ensemble import RandomForestClassifier\n",
        "from sklearn.neighbors import KNeighborsClassifier\n",
        "from sklearn.tree import DecisionTreeClassifier\n",
        "from sklearn.pipeline import make_pipeline\n",
        "from sklearn.preprocessing import StandardScaler\n",
        "from sklearn.ensemble import StackingClassifier\n",
        "from sklearn.impute import SimpleImputer\n",
        "from sklearn.model_selection import cross_val_score\n",
        "from sklearn.model_selection import RepeatedStratifiedKFold\n",
        "from sklearn.model_selection import GridSearchCV\n",
        "\n",
        "import warnings\n",
        "warnings.filterwarnings(\"ignore\")"
      ],
      "metadata": {
        "id": "6onw9Ei8qsSR"
      },
      "execution_count": 1,
      "outputs": []
    }
  ]
}